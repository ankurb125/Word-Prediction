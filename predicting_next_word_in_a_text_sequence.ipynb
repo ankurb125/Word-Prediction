{
 "cells": [
  {
   "cell_type": "code",
   "execution_count": 1,
   "metadata": {},
   "outputs": [
    {
     "name": "stdout",
     "output_type": "stream",
     "text": [
      "Requirement already satisfied: gdown in c:\\users\\ankur\\anaconda\\lib\\site-packages (4.6.4)\n",
      "Requirement already satisfied: requests[socks] in c:\\users\\ankur\\anaconda\\lib\\site-packages (from gdown) (2.27.1)\n",
      "Requirement already satisfied: beautifulsoup4 in c:\\users\\ankur\\anaconda\\lib\\site-packages (from gdown) (4.11.1)\n",
      "Requirement already satisfied: tqdm in c:\\users\\ankur\\anaconda\\lib\\site-packages (from gdown) (4.64.0)\n",
      "Requirement already satisfied: six in c:\\users\\ankur\\anaconda\\lib\\site-packages (from gdown) (1.16.0)\n",
      "Requirement already satisfied: filelock in c:\\users\\ankur\\anaconda\\lib\\site-packages (from gdown) (3.6.0)\n",
      "Requirement already satisfied: soupsieve>1.2 in c:\\users\\ankur\\anaconda\\lib\\site-packages (from beautifulsoup4->gdown) (2.3.1)\n",
      "Requirement already satisfied: idna<4,>=2.5 in c:\\users\\ankur\\anaconda\\lib\\site-packages (from requests[socks]->gdown) (3.3)\n",
      "Requirement already satisfied: urllib3<1.27,>=1.21.1 in c:\\users\\ankur\\anaconda\\lib\\site-packages (from requests[socks]->gdown) (1.26.9)\n",
      "Requirement already satisfied: charset-normalizer~=2.0.0 in c:\\users\\ankur\\anaconda\\lib\\site-packages (from requests[socks]->gdown) (2.0.4)\n",
      "Requirement already satisfied: certifi>=2017.4.17 in c:\\users\\ankur\\anaconda\\lib\\site-packages (from requests[socks]->gdown) (2021.10.8)\n",
      "Requirement already satisfied: PySocks!=1.5.7,>=1.5.6 in c:\\users\\ankur\\anaconda\\lib\\site-packages (from requests[socks]->gdown) (1.7.1)\n",
      "Requirement already satisfied: colorama in c:\\users\\ankur\\anaconda\\lib\\site-packages (from tqdm->gdown) (0.4.4)\n",
      "Note: you may need to restart the kernel to use updated packages.\n"
     ]
    }
   ],
   "source": [
    " pip install gdown"
   ]
  },
  {
   "cell_type": "code",
   "execution_count": 2,
   "metadata": {
    "id": "BOwsuGQQY9OL",
    "tags": [
     "graded"
    ]
   },
   "outputs": [],
   "source": [
    "import numpy as np \n",
    "import matplotlib.pyplot as plt\n",
    "import tensorflow as tf\n",
    "from tensorflow.keras.models import Sequential\n",
    "from tensorflow.keras.utils import to_categorical \n",
    "from tensorflow.keras.preprocessing.text import Tokenizer\n",
    "from tensorflow.keras.preprocessing.sequence import pad_sequences\n",
    "from tensorflow.keras.layers import Embedding, LSTM, Dense, Bidirectional"
   ]
  },
  {
   "cell_type": "markdown",
   "metadata": {
    "id": "BTxqlHqKHzhr"
   },
   "source": [
    "Dataset  [Shakespeare Sonnets Dataset](https://www.opensourceshakespeare.org/views/sonnets/sonnet_view.php?range=viewrange&sonnetrange1=1&sonnetrange2=154)."
   ]
  },
  {
   "cell_type": "code",
   "execution_count": 3,
   "metadata": {
    "colab": {
     "base_uri": "https://localhost:8080/"
    },
    "id": "WZ4qOUzujMP6",
    "outputId": "5b551d4e-225b-4504-fe6c-1efb93bb493e",
    "scrolled": true,
    "tags": [
     "graded"
    ]
   },
   "outputs": [
    {
     "name": "stderr",
     "output_type": "stream",
     "text": [
      "C:\\Users\\ankur\\Anaconda\\lib\\site-packages\\gdown\\cli.py:121: FutureWarning: Option `--id` was deprecated in version 4.3.1 and will be removed in 5.0. You don't need to pass it anymore to use a file ID.\n",
      "  warnings.warn(\n",
      "Downloading...\n",
      "From: https://drive.google.com/uc?id=108jAePKK4R3BVYBbYJZ32JWUwxeMg20K\n",
      "To: C:\\Users\\ankur\\Tensorflow\\NLP\\sonnets.txt\n",
      "\n",
      "  0%|          | 0.00/93.6k [00:00<?, ?B/s]\n",
      "100%|##########| 93.6k/93.6k [00:00<00:00, 2.27MB/s]\n"
     ]
    }
   ],
   "source": [
    "#sonnets.txt\n",
    "!gdown --id 108jAePKK4R3BVYBbYJZ32JWUwxeMg20K"
   ]
  },
  {
   "cell_type": "code",
   "execution_count": 4,
   "metadata": {
    "colab": {
     "base_uri": "https://localhost:8080/"
    },
    "id": "Pfd-nYKij5yY",
    "outputId": "5675d05f-380e-413a-ce09-c79d87d22989",
    "tags": [
     "graded"
    ]
   },
   "outputs": [
    {
     "name": "stdout",
     "output_type": "stream",
     "text": [
      "There are 2159 lines of sonnets\n",
      "\n",
      "The first 5 lines look like this:\n",
      "\n",
      "from fairest creatures we desire increase,\n",
      "that thereby beauty's rose might never die,\n",
      "but as the riper should by time decease,\n",
      "his tender heir might bear his memory:\n",
      "but thou, contracted to thine own bright eyes,\n"
     ]
    }
   ],
   "source": [
    "SONNETS_FILE = './sonnets.txt'\n",
    "\n",
    "with open('./sonnets.txt') as f:\n",
    "    data = f.read()\n",
    "corpus = data.lower().split(\"\\n\")\n",
    "\n",
    "print(f\"There are {len(corpus)} lines of sonnets\\n\")\n",
    "print(f\"The first 5 lines look like this:\\n\")\n",
    "for i in range(5):\n",
    "    print(corpus[i])"
   ]
  },
  {
   "cell_type": "markdown",
   "metadata": {
    "id": "imB15zrSNhA1"
   },
   "source": [
    "## Tokenizing the text"
   ]
  },
  {
   "cell_type": "code",
   "execution_count": 5,
   "metadata": {
    "id": "AAhM_qAZk0o5",
    "tags": [
     "graded"
    ]
   },
   "outputs": [],
   "source": [
    "tokenizer = Tokenizer()\n",
    "tokenizer.fit_on_texts(corpus)\n",
    "total_words = len(tokenizer.word_index) + 1"
   ]
  },
  {
   "cell_type": "code",
   "execution_count": 6,
   "metadata": {
    "colab": {
     "base_uri": "https://localhost:8080/",
     "height": 36
    },
    "id": "tqhPxdeXlfjh",
    "outputId": "c81e04b5-2402-4ef7-c927-a360bcbf04eb",
    "tags": [
     "graded"
    ]
   },
   "outputs": [
    {
     "data": {
      "text/plain": [
       "'from fairest creatures we desire increase,'"
      ]
     },
     "execution_count": 6,
     "metadata": {},
     "output_type": "execute_result"
    }
   ],
   "source": [
    "corpus[0]"
   ]
  },
  {
   "cell_type": "code",
   "execution_count": 7,
   "metadata": {
    "colab": {
     "base_uri": "https://localhost:8080/"
    },
    "id": "EMSEhmbzNZCE",
    "outputId": "7f3bd2b8-3180-44ef-94cd-44e8f834a291",
    "scrolled": true,
    "tags": [
     "graded"
    ]
   },
   "outputs": [
    {
     "data": {
      "text/plain": [
       "[[],\n",
       " [],\n",
       " [58],\n",
       " [],\n",
       " [],\n",
       " [],\n",
       " [17],\n",
       " [6],\n",
       " [],\n",
       " [],\n",
       " [],\n",
       " [],\n",
       " [],\n",
       " [],\n",
       " [],\n",
       " [],\n",
       " [17],\n",
       " [],\n",
       " [],\n",
       " [],\n",
       " [],\n",
       " [],\n",
       " [],\n",
       " [],\n",
       " [],\n",
       " [],\n",
       " [],\n",
       " [],\n",
       " [],\n",
       " [6],\n",
       " [],\n",
       " [],\n",
       " [],\n",
       " [6],\n",
       " [],\n",
       " [],\n",
       " [],\n",
       " [],\n",
       " [17],\n",
       " [],\n",
       " [],\n",
       " []]"
      ]
     },
     "execution_count": 7,
     "metadata": {},
     "output_type": "execute_result"
    }
   ],
   "source": [
    "tokenizer.texts_to_sequences(corpus[0])"
   ]
  },
  {
   "cell_type": "code",
   "execution_count": 8,
   "metadata": {
    "colab": {
     "base_uri": "https://localhost:8080/"
    },
    "id": "Qmgo-vXhk4nd",
    "outputId": "74f107f5-e4a8-4ce5-a3f9-0f417b4dbbef",
    "tags": [
     "graded"
    ]
   },
   "outputs": [
    {
     "data": {
      "text/plain": [
       "[[34, 417, 877, 166, 213, 517]]"
      ]
     },
     "execution_count": 8,
     "metadata": {},
     "output_type": "execute_result"
    }
   ],
   "source": [
    "tokenizer.texts_to_sequences([corpus[0]])"
   ]
  },
  {
   "cell_type": "code",
   "execution_count": 9,
   "metadata": {
    "colab": {
     "base_uri": "https://localhost:8080/"
    },
    "id": "kpTy8WmIQ57P",
    "outputId": "3308fa8d-01fa-4eca-e98e-b427a1fbae80",
    "tags": [
     "graded"
    ]
   },
   "outputs": [
    {
     "data": {
      "text/plain": [
       "[34, 417, 877, 166, 213, 517]"
      ]
     },
     "execution_count": 9,
     "metadata": {},
     "output_type": "execute_result"
    }
   ],
   "source": [
    "tokenizer.texts_to_sequences([corpus[0]])[0]"
   ]
  },
  {
   "cell_type": "markdown",
   "metadata": {
    "id": "-oqy9KjXRJ9A"
   },
   "source": [
    "## Generating n_grams\n"
   ]
  },
  {
   "cell_type": "code",
   "execution_count": 10,
   "metadata": {
    "id": "iy4baJMDl6kj",
    "tags": [
     "graded"
    ]
   },
   "outputs": [],
   "source": [
    "\n",
    "def n_gram_seqs(corpus, tokenizer):\n",
    "    \n",
    "    input_sequences = []\n",
    "    for line in corpus:\n",
    "        token_list = tokenizer.texts_to_sequences([line])[0]\n",
    "        for i in range(1,len( token_list)):\n",
    "                n_gram_sequence = token_list[:i+1]\n",
    "                input_sequences.append(n_gram_sequence)\n",
    "    return input_sequences"
   ]
  },
  {
   "cell_type": "code",
   "execution_count": 11,
   "metadata": {
    "colab": {
     "base_uri": "https://localhost:8080/"
    },
    "id": "DlKqW2pfM7G3",
    "outputId": "41b251f1-c13b-4468-8d9f-a3ff2d6f9514",
    "tags": [
     "graded"
    ]
   },
   "outputs": [
    {
     "name": "stdout",
     "output_type": "stream",
     "text": [
      "n_gram sequences for first example look like this:\n",
      "\n"
     ]
    },
    {
     "data": {
      "text/plain": [
       "[[34, 417],\n",
       " [34, 417, 877],\n",
       " [34, 417, 877, 166],\n",
       " [34, 417, 877, 166, 213],\n",
       " [34, 417, 877, 166, 213, 517]]"
      ]
     },
     "execution_count": 11,
     "metadata": {},
     "output_type": "execute_result"
    }
   ],
   "source": [
    "first_example_sequence = n_gram_seqs([corpus[0]], tokenizer)\n",
    "\n",
    "print(\"n_gram sequences for first example look like this:\\n\")\n",
    "first_example_sequence"
   ]
  },
  {
   "cell_type": "code",
   "execution_count": 12,
   "metadata": {
    "colab": {
     "base_uri": "https://localhost:8080/"
    },
    "id": "wtPpCcBjNc4c",
    "outputId": "2c131e28-f49c-4ff2-eb76-c741098aacd4",
    "tags": [
     "graded"
    ]
   },
   "outputs": [
    {
     "name": "stdout",
     "output_type": "stream",
     "text": [
      "n_gram sequences for next 3 examples look like this:\n",
      "\n"
     ]
    },
    {
     "data": {
      "text/plain": [
       "[[8, 878],\n",
       " [8, 878, 134],\n",
       " [8, 878, 134, 351],\n",
       " [8, 878, 134, 351, 102],\n",
       " [8, 878, 134, 351, 102, 156],\n",
       " [8, 878, 134, 351, 102, 156, 199],\n",
       " [16, 22],\n",
       " [16, 22, 2],\n",
       " [16, 22, 2, 879],\n",
       " [16, 22, 2, 879, 61],\n",
       " [16, 22, 2, 879, 61, 30],\n",
       " [16, 22, 2, 879, 61, 30, 48],\n",
       " [16, 22, 2, 879, 61, 30, 48, 634],\n",
       " [25, 311],\n",
       " [25, 311, 635],\n",
       " [25, 311, 635, 102],\n",
       " [25, 311, 635, 102, 200],\n",
       " [25, 311, 635, 102, 200, 25],\n",
       " [25, 311, 635, 102, 200, 25, 278]]"
      ]
     },
     "execution_count": 12,
     "metadata": {},
     "output_type": "execute_result"
    }
   ],
   "source": [
    "next_3_examples_sequence = n_gram_seqs(corpus[1:4], tokenizer)\n",
    "\n",
    "print(\"n_gram sequences for next 3 examples look like this:\\n\")\n",
    "next_3_examples_sequence"
   ]
  },
  {
   "cell_type": "code",
   "execution_count": 13,
   "metadata": {
    "colab": {
     "base_uri": "https://localhost:8080/"
    },
    "id": "laMwiRUpmuSd",
    "outputId": "ec4f0c60-02c5-4ebe-cdfd-2a723c7f3a57",
    "tags": [
     "graded"
    ]
   },
   "outputs": [
    {
     "name": "stdout",
     "output_type": "stream",
     "text": [
      "n_grams of input_sequences have length: 15462\n",
      "maximum length of sequences is: 11\n"
     ]
    }
   ],
   "source": [
    "input_sequences = n_gram_seqs(corpus, tokenizer)\n",
    "\n",
    "# Save max length \n",
    "max_sequence_len = max([len(x) for x in input_sequences])\n",
    "\n",
    "print(f\"n_grams of input_sequences have length: {len(input_sequences)}\")\n",
    "print(f\"maximum length of sequences is: {max_sequence_len}\")"
   ]
  },
  {
   "cell_type": "markdown",
   "metadata": {
    "id": "zHY7HroqWq12"
   },
   "source": [
    "## Add padding to the sequences\n"
   ]
  },
  {
   "cell_type": "code",
   "execution_count": 16,
   "metadata": {
    "cellView": "code",
    "id": "WW1-qAZaWOhC",
    "tags": [
     "graded"
    ]
   },
   "outputs": [],
   "source": [
    "def pad_seqs(input_sequences, maxlen): \n",
    "    padded_sequences = np.array(pad_sequences(input_sequences, maxlen=maxlen, padding='pre'))\n",
    "    return padded_sequences\n",
    "   "
   ]
  },
  {
   "cell_type": "code",
   "execution_count": 18,
   "metadata": {
    "colab": {
     "base_uri": "https://localhost:8080/"
    },
    "id": "IqVQ0pb3YHLr",
    "outputId": "59674713-228d-496d-ec3c-653c7e6ef0c7",
    "tags": [
     "graded"
    ]
   },
   "outputs": [
    {
     "data": {
      "text/plain": [
       "array([[  0,   0,   0,  34, 417],\n",
       "       [  0,   0,  34, 417, 877],\n",
       "       [  0,  34, 417, 877, 166],\n",
       "       [ 34, 417, 877, 166, 213],\n",
       "       [417, 877, 166, 213, 517]])"
      ]
     },
     "execution_count": 18,
     "metadata": {},
     "output_type": "execute_result"
    }
   ],
   "source": [
    "first_padded_seq = pad_seqs(first_example_sequence, len(first_example_sequence))\n",
    "first_padded_seq"
   ]
  },
  {
   "cell_type": "code",
   "execution_count": 19,
   "metadata": {
    "colab": {
     "base_uri": "https://localhost:8080/"
    },
    "id": "j56_UCOBYzZt",
    "outputId": "508dc80d-0617-48e0-8bb2-285df442d4ef",
    "tags": [
     "graded"
    ]
   },
   "outputs": [
    {
     "data": {
      "text/plain": [
       "array([[  0,   0,   0,   0,   0,   0,   8, 878],\n",
       "       [  0,   0,   0,   0,   0,   8, 878, 134],\n",
       "       [  0,   0,   0,   0,   8, 878, 134, 351],\n",
       "       [  0,   0,   0,   8, 878, 134, 351, 102],\n",
       "       [  0,   0,   8, 878, 134, 351, 102, 156],\n",
       "       [  0,   8, 878, 134, 351, 102, 156, 199],\n",
       "       [  0,   0,   0,   0,   0,   0,  16,  22],\n",
       "       [  0,   0,   0,   0,   0,  16,  22,   2],\n",
       "       [  0,   0,   0,   0,  16,  22,   2, 879],\n",
       "       [  0,   0,   0,  16,  22,   2, 879,  61],\n",
       "       [  0,   0,  16,  22,   2, 879,  61,  30],\n",
       "       [  0,  16,  22,   2, 879,  61,  30,  48],\n",
       "       [ 16,  22,   2, 879,  61,  30,  48, 634],\n",
       "       [  0,   0,   0,   0,   0,   0,  25, 311],\n",
       "       [  0,   0,   0,   0,   0,  25, 311, 635],\n",
       "       [  0,   0,   0,   0,  25, 311, 635, 102],\n",
       "       [  0,   0,   0,  25, 311, 635, 102, 200],\n",
       "       [  0,   0,  25, 311, 635, 102, 200,  25],\n",
       "       [  0,  25, 311, 635, 102, 200,  25, 278]])"
      ]
     },
     "execution_count": 19,
     "metadata": {},
     "output_type": "execute_result"
    }
   ],
   "source": [
    "next_3_padded_seq = pad_seqs(next_3_examples_sequence, max([len(s) for s in next_3_examples_sequence]))\n",
    "next_3_padded_seq"
   ]
  },
  {
   "cell_type": "code",
   "execution_count": 20,
   "metadata": {
    "colab": {
     "base_uri": "https://localhost:8080/"
    },
    "id": "rgK-Q_micEYA",
    "outputId": "38bfdce7-4a8c-41b9-a4bb-ced84418b9fa",
    "tags": [
     "graded"
    ]
   },
   "outputs": [
    {
     "name": "stdout",
     "output_type": "stream",
     "text": [
      "padded corpus has shape: (15462, 11)\n"
     ]
    }
   ],
   "source": [
    "input_sequences = pad_seqs(input_sequences, max_sequence_len)\n",
    "\n",
    "print(f\"padded corpus has shape: {input_sequences.shape}\")"
   ]
  },
  {
   "cell_type": "markdown",
   "metadata": {
    "id": "ZbOidyPrXxf7"
   },
   "source": [
    "## Split the data into features and labels\n"
   ]
  },
  {
   "cell_type": "code",
   "execution_count": 21,
   "metadata": {
    "cellView": "code",
    "id": "9WGGbYdnZdmJ",
    "tags": [
     "graded"
    ]
   },
   "outputs": [],
   "source": [
    "def features_and_labels(input_sequences, total_words):\n",
    "    features = input_sequences[:,:-1]\n",
    "    labels = input_sequences[:,-1]\n",
    "    one_hot_labels = tf.keras.utils.to_categorical(labels, num_classes=total_words)\n",
    "    return features, one_hot_labels"
   ]
  },
  {
   "cell_type": "code",
   "execution_count": 23,
   "metadata": {
    "colab": {
     "base_uri": "https://localhost:8080/"
    },
    "id": "23DolaBRaIAZ",
    "outputId": "32604e66-7db1-49f9-f3d5-43672ed7ab8f",
    "tags": [
     "graded"
    ]
   },
   "outputs": [
    {
     "name": "stdout",
     "output_type": "stream",
     "text": [
      "labels have shape: (5, 3211)\n",
      "\n",
      "features look like this:\n",
      "\n"
     ]
    },
    {
     "data": {
      "text/plain": [
       "array([[  0,   0,   0,  34],\n",
       "       [  0,   0,  34, 417],\n",
       "       [  0,  34, 417, 877],\n",
       "       [ 34, 417, 877, 166],\n",
       "       [417, 877, 166, 213]])"
      ]
     },
     "execution_count": 23,
     "metadata": {},
     "output_type": "execute_result"
    }
   ],
   "source": [
    "first_features, first_labels = features_and_labels(first_padded_seq, total_words)\n",
    "\n",
    "print(f\"labels have shape: {first_labels.shape}\")\n",
    "print(\"\\nfeatures look like this:\\n\")\n",
    "first_features"
   ]
  },
  {
   "cell_type": "code",
   "execution_count": 24,
   "metadata": {
    "colab": {
     "base_uri": "https://localhost:8080/"
    },
    "id": "GRTuLEt3bRKa",
    "outputId": "c08f440b-0e38-4851-dd82-6b9091b9bf1b",
    "tags": [
     "graded"
    ]
   },
   "outputs": [
    {
     "name": "stdout",
     "output_type": "stream",
     "text": [
      "features have shape: (15462, 10)\n",
      "labels have shape: (15462, 3211)\n"
     ]
    }
   ],
   "source": [
    "features, labels = features_and_labels(input_sequences, total_words)\n",
    "\n",
    "print(f\"features have shape: {features.shape}\")\n",
    "print(f\"labels have shape: {labels.shape}\")"
   ]
  },
  {
   "cell_type": "markdown",
   "metadata": {
    "id": "ltxaOCE_aU6J"
   },
   "source": [
    "## Create the model\n"
   ]
  },
  {
   "cell_type": "code",
   "execution_count": 25,
   "metadata": {
    "cellView": "code",
    "id": "XrE6kpJFfvRY",
    "tags": [
     "graded"
    ]
   },
   "outputs": [],
   "source": [
    "def create_model(total_words, max_sequence_len):\n",
    "\n",
    "    model = Sequential()\n",
    "    \n",
    "    model.add(Embedding(total_words, 100, input_length=max_sequence_len-1))\n",
    "    model.add(Bidirectional(LSTM(150)))\n",
    "    model.add(Dense(total_words, activation='softmax'))\n",
    "    model.compile(loss='categorical_crossentropy',\n",
    "                  optimizer='adam',\n",
    "                  metrics=['accuracy'])\n",
    "    \n",
    "    \n",
    "\n",
    "    return model"
   ]
  },
  {
   "cell_type": "code",
   "execution_count": 26,
   "metadata": {
    "colab": {
     "base_uri": "https://localhost:8080/"
    },
    "id": "0IpX_Gu_gISk",
    "outputId": "7d4ce88f-1dfb-4a60-89c4-95f5ebd59705",
    "tags": []
   },
   "outputs": [
    {
     "name": "stdout",
     "output_type": "stream",
     "text": [
      "Epoch 1/50\n",
      "484/484 [==============================] - 16s 27ms/step - loss: 6.8915 - accuracy: 0.0225\n",
      "Epoch 2/50\n",
      "484/484 [==============================] - 14s 29ms/step - loss: 6.4419 - accuracy: 0.0293\n",
      "Epoch 3/50\n",
      "484/484 [==============================] - 14s 29ms/step - loss: 6.1969 - accuracy: 0.0411\n",
      "Epoch 4/50\n",
      "484/484 [==============================] - 14s 29ms/step - loss: 5.9242 - accuracy: 0.0515\n",
      "Epoch 5/50\n",
      "484/484 [==============================] - 14s 29ms/step - loss: 5.6180 - accuracy: 0.0656\n",
      "Epoch 6/50\n",
      "484/484 [==============================] - 15s 30ms/step - loss: 5.2667 - accuracy: 0.0791\n",
      "Epoch 7/50\n",
      "484/484 [==============================] - 15s 31ms/step - loss: 4.8793 - accuracy: 0.1014\n",
      "Epoch 8/50\n",
      "484/484 [==============================] - 15s 31ms/step - loss: 4.4820 - accuracy: 0.1329\n",
      "Epoch 9/50\n",
      "484/484 [==============================] - 16s 32ms/step - loss: 4.0824 - accuracy: 0.1808\n",
      "Epoch 10/50\n",
      "484/484 [==============================] - 14s 29ms/step - loss: 3.6961 - accuracy: 0.2410\n",
      "Epoch 11/50\n",
      "484/484 [==============================] - 14s 28ms/step - loss: 3.3242 - accuracy: 0.3055\n",
      "Epoch 12/50\n",
      "484/484 [==============================] - 16s 33ms/step - loss: 2.9864 - accuracy: 0.3718\n",
      "Epoch 13/50\n",
      "484/484 [==============================] - 15s 30ms/step - loss: 2.6863 - accuracy: 0.4317\n",
      "Epoch 14/50\n",
      "484/484 [==============================] - 16s 34ms/step - loss: 2.4290 - accuracy: 0.4825\n",
      "Epoch 15/50\n",
      "484/484 [==============================] - 16s 32ms/step - loss: 2.1931 - accuracy: 0.5376\n",
      "Epoch 16/50\n",
      "484/484 [==============================] - 15s 31ms/step - loss: 1.9862 - accuracy: 0.5788\n",
      "Epoch 17/50\n",
      "484/484 [==============================] - 15s 32ms/step - loss: 1.8045 - accuracy: 0.6207\n",
      "Epoch 18/50\n",
      "484/484 [==============================] - 15s 32ms/step - loss: 1.6387 - accuracy: 0.6605\n",
      "Epoch 19/50\n",
      "484/484 [==============================] - 16s 33ms/step - loss: 1.4940 - accuracy: 0.6913\n",
      "Epoch 20/50\n",
      "484/484 [==============================] - 15s 32ms/step - loss: 1.3621 - accuracy: 0.7191\n",
      "Epoch 21/50\n",
      "484/484 [==============================] - 15s 31ms/step - loss: 1.2554 - accuracy: 0.7448\n",
      "Epoch 22/50\n",
      "484/484 [==============================] - 16s 34ms/step - loss: 1.1574 - accuracy: 0.7597\n",
      "Epoch 23/50\n",
      "484/484 [==============================] - 16s 34ms/step - loss: 1.0673 - accuracy: 0.7791\n",
      "Epoch 24/50\n",
      "484/484 [==============================] - 17s 34ms/step - loss: 0.9905 - accuracy: 0.7951\n",
      "Epoch 25/50\n",
      "484/484 [==============================] - 16s 33ms/step - loss: 0.9263 - accuracy: 0.8051\n",
      "Epoch 26/50\n",
      "484/484 [==============================] - 15s 31ms/step - loss: 0.8701 - accuracy: 0.8152\n",
      "Epoch 27/50\n",
      "484/484 [==============================] - 15s 32ms/step - loss: 0.8308 - accuracy: 0.8218\n",
      "Epoch 28/50\n",
      "484/484 [==============================] - 18s 36ms/step - loss: 0.7923 - accuracy: 0.8270\n",
      "Epoch 29/50\n",
      "484/484 [==============================] - 15s 32ms/step - loss: 0.7524 - accuracy: 0.8330\n",
      "Epoch 30/50\n",
      "484/484 [==============================] - 15s 32ms/step - loss: 0.7314 - accuracy: 0.8350\n",
      "Epoch 31/50\n",
      "484/484 [==============================] - 16s 34ms/step - loss: 0.7040 - accuracy: 0.8392\n",
      "Epoch 32/50\n",
      "484/484 [==============================] - 16s 33ms/step - loss: 0.6852 - accuracy: 0.8414\n",
      "Epoch 33/50\n",
      "484/484 [==============================] - 16s 33ms/step - loss: 0.6749 - accuracy: 0.8427\n",
      "Epoch 34/50\n",
      "484/484 [==============================] - 17s 34ms/step - loss: 0.6559 - accuracy: 0.8450\n",
      "Epoch 35/50\n",
      "484/484 [==============================] - 18s 37ms/step - loss: 0.6377 - accuracy: 0.8458\n",
      "Epoch 36/50\n",
      "484/484 [==============================] - 16s 33ms/step - loss: 0.6284 - accuracy: 0.8454\n",
      "Epoch 37/50\n",
      "484/484 [==============================] - 17s 36ms/step - loss: 0.6168 - accuracy: 0.8471\n",
      "Epoch 38/50\n",
      "484/484 [==============================] - 18s 38ms/step - loss: 0.6127 - accuracy: 0.8478\n",
      "Epoch 39/50\n",
      "484/484 [==============================] - 18s 37ms/step - loss: 0.6066 - accuracy: 0.8470\n",
      "Epoch 40/50\n",
      "484/484 [==============================] - 21s 43ms/step - loss: 0.5988 - accuracy: 0.8476\n",
      "Epoch 41/50\n",
      "484/484 [==============================] - 18s 38ms/step - loss: 0.5906 - accuracy: 0.8485\n",
      "Epoch 42/50\n",
      "484/484 [==============================] - 17s 35ms/step - loss: 0.5889 - accuracy: 0.8487\n",
      "Epoch 43/50\n",
      "484/484 [==============================] - 17s 35ms/step - loss: 0.5857 - accuracy: 0.8487\n",
      "Epoch 44/50\n",
      "484/484 [==============================] - 16s 33ms/step - loss: 0.5804 - accuracy: 0.8469\n",
      "Epoch 45/50\n",
      "484/484 [==============================] - 19s 38ms/step - loss: 0.5745 - accuracy: 0.8485\n",
      "Epoch 46/50\n",
      "484/484 [==============================] - 17s 36ms/step - loss: 0.5695 - accuracy: 0.8495\n",
      "Epoch 47/50\n",
      "484/484 [==============================] - 17s 34ms/step - loss: 0.5702 - accuracy: 0.8478\n",
      "Epoch 48/50\n",
      "484/484 [==============================] - 16s 34ms/step - loss: 0.5728 - accuracy: 0.8463\n",
      "Epoch 49/50\n",
      "484/484 [==============================] - 17s 35ms/step - loss: 0.5714 - accuracy: 0.8478\n",
      "Epoch 50/50\n",
      "484/484 [==============================] - 17s 34ms/step - loss: 0.5602 - accuracy: 0.8503\n"
     ]
    }
   ],
   "source": [
    "\n",
    "model = create_model(total_words, max_sequence_len)\n",
    "history = model.fit(features, labels, epochs=50, verbose=1)"
   ]
  },
  {
   "cell_type": "code",
   "execution_count": null,
   "metadata": {
    "colab": {
     "base_uri": "https://localhost:8080/",
     "height": 545
    },
    "id": "1fXTEO3GJ282",
    "outputId": "e858e228-3942-4cf9-b734-58bc9e1450b7",
    "tags": []
   },
   "outputs": [],
   "source": [
    "acc = history.history['accuracy']\n",
    "loss = history.history['loss']\n",
    "\n",
    "epochs = range(len(acc))\n",
    "\n",
    "plt.plot(epochs, acc, 'b', label='Training accuracy')\n",
    "plt.title('Training accuracy')\n",
    "\n",
    "plt.figure()\n",
    "\n",
    "plt.plot(epochs, loss, 'b', label='Training Loss')\n",
    "plt.title('Training loss')\n",
    "plt.legend()\n",
    "\n",
    "plt.show()"
   ]
  },
  {
   "cell_type": "code",
   "execution_count": null,
   "metadata": {
    "colab": {
     "base_uri": "https://localhost:8080/",
     "height": 17
    },
    "id": "9QRG73l6qE-c",
    "outputId": "cf4dc7de-412b-46ed-da95-10c0b2d28326",
    "tags": []
   },
   "outputs": [],
   "source": [
    "def download_history():\n",
    "    import pickle\n",
    "    from google.colab import files\n",
    "\n",
    "    with open('history.pkl', 'wb') as f:\n",
    "    pickle.dump(history.history, f)\n",
    "\n",
    "    files.download('history.pkl')\n",
    "\n",
    "download_history()"
   ]
  },
  {
   "cell_type": "code",
   "execution_count": null,
   "metadata": {
    "colab": {
     "base_uri": "https://localhost:8080/"
    },
    "id": "6Vc6PHgxa6Hm",
    "outputId": "2e3ae5ad-0855-45d4-d54e-1b4e3cc0ef4c",
    "tags": []
   },
   "outputs": [],
   "source": [
    "seed_text = \"River is flowinf like an air\"\n",
    "next_words = 100\n",
    "  \n",
    "for _ in range(next_words):\n",
    "\ttoken_list = tokenizer.texts_to_sequences([seed_text])[0]\n",
    "\ttoken_list = pad_sequences([token_list], maxlen=max_sequence_len-1, padding='pre')\n",
    "\tpredicted = model.predict(token_list, verbose=0)\n",
    "\tpredicted = np.argmax(predicted, axis=-1).item()\n",
    "\toutput_word = tokenizer.index_word[predicted]\n",
    "\tseed_text += \" \" + output_word\n",
    "\n",
    "print(seed_text)"
   ]
  }
 ],
 "metadata": {
  "accelerator": "GPU",
  "colab": {
   "name": "C3W4_Assignment.ipynb",
   "provenance": []
  },
  "dlai_version": "1.2.0",
  "jupytext": {
   "main_language": "python"
  },
  "kernelspec": {
   "display_name": "Python 3 (ipykernel)",
   "language": "python",
   "name": "python3"
  },
  "language_info": {
   "codemirror_mode": {
    "name": "ipython",
    "version": 3
   },
   "file_extension": ".py",
   "mimetype": "text/x-python",
   "name": "python",
   "nbconvert_exporter": "python",
   "pygments_lexer": "ipython3",
   "version": "3.9.12"
  }
 },
 "nbformat": 4,
 "nbformat_minor": 1
}
